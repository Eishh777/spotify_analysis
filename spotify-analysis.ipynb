{
 "cells": [
  {
   "cell_type": "code",
   "execution_count": null,
   "metadata": {
    "_cell_guid": "b1076dfc-b9ad-4769-8c92-a6c4dae69d19",
    "_uuid": "8f2839f25d086af736a60e9eeb907d3b93b6e0e5",
    "execution": {
     "iopub.execute_input": "2025-01-03T15:34:05.112392Z",
     "iopub.status.busy": "2025-01-03T15:34:05.111633Z",
     "iopub.status.idle": "2025-01-03T15:34:05.119076Z",
     "shell.execute_reply": "2025-01-03T15:34:05.117627Z",
     "shell.execute_reply.started": "2025-01-03T15:34:05.112347Z"
    },
    "trusted": true
   },
   "outputs": [],
   "source": [
    "# This Python 3 environment comes with many helpful analytics libraries installed\n",
    "# It is defined by the kaggle/python Docker image: https://github.com/kaggle/docker-python\n",
    "# For example, here's several helpful packages to load\n",
    "\n",
    "import pandas as pd\n",
    "import numpy as np\n",
    "import matplotlib.pyplot as plt\n",
    "import seaborn as sns\n",
    "\n",
    "# Input data files are available in the read-only \"../input/\" directory\n",
    "# For example, running this (by clicking run or pressing Shift+Enter) will list all files under the input directory\n",
    "\n",
    "# You can write up to 20GB to the current directory (/kaggle/working/) that gets preserved as output when you create a version using \"Save & Run All\" \n",
    "# You can also write temporary files to /kaggle/temp/, but they won't be saved outside of the current session"
   ]
  },
  {
   "cell_type": "code",
   "execution_count": null,
   "metadata": {
    "execution": {
     "iopub.execute_input": "2025-01-03T15:34:05.121123Z",
     "iopub.status.busy": "2025-01-03T15:34:05.120694Z",
     "iopub.status.idle": "2025-01-03T15:34:08.617188Z",
     "shell.execute_reply": "2025-01-03T15:34:08.616020Z",
     "shell.execute_reply.started": "2025-01-03T15:34:05.121080Z"
    },
    "trusted": true
   },
   "outputs": [],
   "source": [
    "df_tracks = pd.read_csv(r'/kaggle/input/spotify-datasets/tracks.csv')"
   ]
  },
  {
   "cell_type": "code",
   "execution_count": null,
   "metadata": {
    "execution": {
     "iopub.execute_input": "2025-01-03T15:34:08.619378Z",
     "iopub.status.busy": "2025-01-03T15:34:08.618888Z",
     "iopub.status.idle": "2025-01-03T15:34:08.643571Z",
     "shell.execute_reply": "2025-01-03T15:34:08.642146Z",
     "shell.execute_reply.started": "2025-01-03T15:34:08.619307Z"
    },
    "trusted": true
   },
   "outputs": [],
   "source": [
    "df_tracks.head()"
   ]
  },
  {
   "cell_type": "code",
   "execution_count": null,
   "metadata": {
    "execution": {
     "iopub.execute_input": "2025-01-03T15:34:08.645094Z",
     "iopub.status.busy": "2025-01-03T15:34:08.644794Z",
     "iopub.status.idle": "2025-01-03T15:34:09.081912Z",
     "shell.execute_reply": "2025-01-03T15:34:09.080834Z",
     "shell.execute_reply.started": "2025-01-03T15:34:08.645069Z"
    },
    "trusted": true
   },
   "outputs": [],
   "source": [
    "pd.isnull(df_tracks).sum()"
   ]
  },
  {
   "cell_type": "code",
   "execution_count": null,
   "metadata": {
    "execution": {
     "iopub.execute_input": "2025-01-03T15:34:09.083470Z",
     "iopub.status.busy": "2025-01-03T15:34:09.083082Z",
     "iopub.status.idle": "2025-01-03T15:34:09.524722Z",
     "shell.execute_reply": "2025-01-03T15:34:09.523526Z",
     "shell.execute_reply.started": "2025-01-03T15:34:09.083442Z"
    },
    "trusted": true
   },
   "outputs": [],
   "source": [
    "df_tracks.info()"
   ]
  },
  {
   "cell_type": "code",
   "execution_count": null,
   "metadata": {
    "execution": {
     "iopub.execute_input": "2025-01-03T15:34:09.526670Z",
     "iopub.status.busy": "2025-01-03T15:34:09.526190Z",
     "iopub.status.idle": "2025-01-03T15:34:09.770274Z",
     "shell.execute_reply": "2025-01-03T15:34:09.769196Z",
     "shell.execute_reply.started": "2025-01-03T15:34:09.526630Z"
    },
    "trusted": true
   },
   "outputs": [],
   "source": [
    "sorted_df = df_tracks.sort_values('popularity', ascending = True).head(10)\n",
    "sorted_df"
   ]
  },
  {
   "cell_type": "code",
   "execution_count": null,
   "metadata": {
    "execution": {
     "iopub.execute_input": "2025-01-03T15:34:09.772252Z",
     "iopub.status.busy": "2025-01-03T15:34:09.771786Z",
     "iopub.status.idle": "2025-01-03T15:34:10.138764Z",
     "shell.execute_reply": "2025-01-03T15:34:10.137603Z",
     "shell.execute_reply.started": "2025-01-03T15:34:09.772214Z"
    },
    "trusted": true
   },
   "outputs": [],
   "source": [
    "df_tracks.describe().transpose()"
   ]
  },
  {
   "cell_type": "code",
   "execution_count": null,
   "metadata": {
    "execution": {
     "iopub.execute_input": "2025-01-03T15:34:10.140648Z",
     "iopub.status.busy": "2025-01-03T15:34:10.140198Z",
     "iopub.status.idle": "2025-01-03T15:34:10.172490Z",
     "shell.execute_reply": "2025-01-03T15:34:10.171391Z",
     "shell.execute_reply.started": "2025-01-03T15:34:10.140606Z"
    },
    "trusted": true
   },
   "outputs": [],
   "source": [
    "most_popular = df_tracks.query('popularity>90', inplace = False).sort_values('popularity', ascending = False )\n",
    "most_popular[:10]"
   ]
  },
  {
   "cell_type": "code",
   "execution_count": null,
   "metadata": {
    "execution": {
     "iopub.execute_input": "2025-01-03T15:34:10.174147Z",
     "iopub.status.busy": "2025-01-03T15:34:10.173839Z",
     "iopub.status.idle": "2025-01-03T15:34:10.301427Z",
     "shell.execute_reply": "2025-01-03T15:34:10.300365Z",
     "shell.execute_reply.started": "2025-01-03T15:34:10.174107Z"
    },
    "trusted": true
   },
   "outputs": [],
   "source": [
    "df_tracks.set_index(\"release_date\", inplace=True)\n",
    "df_tracks.index=pd.to_datetime(df_tracks.index)\n",
    "df_tracks.head()"
   ]
  },
  {
   "cell_type": "code",
   "execution_count": null,
   "metadata": {
    "execution": {
     "iopub.execute_input": "2025-01-03T15:34:10.302867Z",
     "iopub.status.busy": "2025-01-03T15:34:10.302603Z",
     "iopub.status.idle": "2025-01-03T15:34:10.403592Z",
     "shell.execute_reply": "2025-01-03T15:34:10.402524Z",
     "shell.execute_reply.started": "2025-01-03T15:34:10.302845Z"
    },
    "trusted": true
   },
   "outputs": [],
   "source": [
    "df_tracks[[\"artists\"]].iloc[18]"
   ]
  },
  {
   "cell_type": "code",
   "execution_count": null,
   "metadata": {
    "execution": {
     "iopub.execute_input": "2025-01-03T15:34:10.405278Z",
     "iopub.status.busy": "2025-01-03T15:34:10.404953Z",
     "iopub.status.idle": "2025-01-03T15:34:10.791525Z",
     "shell.execute_reply": "2025-01-03T15:34:10.790245Z",
     "shell.execute_reply.started": "2025-01-03T15:34:10.405251Z"
    },
    "trusted": true
   },
   "outputs": [],
   "source": [
    "df_tracks[\"duration\"]= df_tracks[\"duration_ms\"].apply(lambda x: round(x/1000))\n",
    "df_tracks.drop(\"duration_ms\", inplace=True, axis=1)"
   ]
  },
  {
   "cell_type": "code",
   "execution_count": null,
   "metadata": {
    "execution": {
     "iopub.execute_input": "2025-01-03T15:34:10.793749Z",
     "iopub.status.busy": "2025-01-03T15:34:10.793304Z",
     "iopub.status.idle": "2025-01-03T15:34:10.801772Z",
     "shell.execute_reply": "2025-01-03T15:34:10.800695Z",
     "shell.execute_reply.started": "2025-01-03T15:34:10.793711Z"
    },
    "trusted": true
   },
   "outputs": [],
   "source": [
    "df_tracks.duration.head()"
   ]
  },
  {
   "cell_type": "code",
   "execution_count": null,
   "metadata": {
    "execution": {
     "iopub.execute_input": "2025-01-03T15:40:47.925858Z",
     "iopub.status.busy": "2025-01-03T15:40:47.925469Z",
     "iopub.status.idle": "2025-01-03T15:40:49.070540Z",
     "shell.execute_reply": "2025-01-03T15:40:49.069516Z",
     "shell.execute_reply.started": "2025-01-03T15:40:47.925832Z"
    },
    "trusted": true
   },
   "outputs": [],
   "source": [
    "corr_df = df_tracks.drop([\"key\", \"mode\", \"explicit\"], axis=1).corr(method=\"pearson\")\n",
    "\n",
    "plt.figure(figsize=(14, 6))\n",
    "heatmap = sns.heatmap(\n",
    "    corr_df, \n",
    "    annot=True, \n",
    "    fmt=\".1g\", \n",
    "    vmin=-1, \n",
    "    vmax=1, \n",
    "    center=0, \n",
    "    cmap=\"mako\",  # A darker colormap\n",
    "    linewidths=1, \n",
    "    linecolor=\"black\"\n",
    ")\n",
    "heatmap.set_title(\"Correlation Heatmap Between Variables\", fontsize=16)\n",
    "heatmap.set_xticklabels(heatmap.get_xticklabels(), rotation=90, fontsize=10)\n",
    "heatmap.set_yticklabels(heatmap.get_yticklabels(), fontsize=10)\n",
    "plt.show()"
   ]
  },
  {
   "cell_type": "code",
   "execution_count": null,
   "metadata": {
    "execution": {
     "iopub.execute_input": "2025-01-03T15:34:12.053965Z",
     "iopub.status.busy": "2025-01-03T15:34:12.053664Z",
     "iopub.status.idle": "2025-01-03T15:34:12.090407Z",
     "shell.execute_reply": "2025-01-03T15:34:12.089428Z",
     "shell.execute_reply.started": "2025-01-03T15:34:12.053941Z"
    },
    "trusted": true
   },
   "outputs": [],
   "source": [
    "sample_df = df_tracks.sample(int(0.004*len(df_tracks)))"
   ]
  },
  {
   "cell_type": "code",
   "execution_count": null,
   "metadata": {
    "execution": {
     "iopub.execute_input": "2025-01-03T15:34:12.091848Z",
     "iopub.status.busy": "2025-01-03T15:34:12.091554Z",
     "iopub.status.idle": "2025-01-03T15:34:12.097314Z",
     "shell.execute_reply": "2025-01-03T15:34:12.096263Z",
     "shell.execute_reply.started": "2025-01-03T15:34:12.091823Z"
    },
    "trusted": true
   },
   "outputs": [],
   "source": [
    "print(len(sample_df))"
   ]
  },
  {
   "cell_type": "code",
   "execution_count": null,
   "metadata": {
    "execution": {
     "iopub.execute_input": "2025-01-03T15:41:53.597195Z",
     "iopub.status.busy": "2025-01-03T15:41:53.596805Z",
     "iopub.status.idle": "2025-01-03T15:41:54.194643Z",
     "shell.execute_reply": "2025-01-03T15:41:54.193658Z",
     "shell.execute_reply.started": "2025-01-03T15:41:53.597163Z"
    },
    "trusted": true
   },
   "outputs": [],
   "source": [
    "plt.figure(figsize=(10,6))\n",
    "sns.regplot(data = sample_df, y= \"loudness\", x = \"energy\", color = \"#8B0000\").set(title=\"loudness vs Energy\")"
   ]
  },
  {
   "cell_type": "code",
   "execution_count": null,
   "metadata": {
    "execution": {
     "iopub.execute_input": "2025-01-03T15:42:15.115649Z",
     "iopub.status.busy": "2025-01-03T15:42:15.115234Z",
     "iopub.status.idle": "2025-01-03T15:42:15.712194Z",
     "shell.execute_reply": "2025-01-03T15:42:15.711140Z",
     "shell.execute_reply.started": "2025-01-03T15:42:15.115616Z"
    },
    "trusted": true
   },
   "outputs": [],
   "source": [
    "plt.figure(figsize=(10,6))\n",
    "sns.regplot(data = sample_df, y= \"popularity\", x = \"acousticness\", color = \"c\").set(title=\"popularity vs acousticness\")"
   ]
  },
  {
   "cell_type": "code",
   "execution_count": null,
   "metadata": {
    "execution": {
     "iopub.execute_input": "2025-01-03T15:34:13.490168Z",
     "iopub.status.busy": "2025-01-03T15:34:13.489805Z",
     "iopub.status.idle": "2025-01-03T15:34:13.787474Z",
     "shell.execute_reply": "2025-01-03T15:34:13.786529Z",
     "shell.execute_reply.started": "2025-01-03T15:34:13.490136Z"
    },
    "trusted": true
   },
   "outputs": [],
   "source": [
    "df_tracks['dates'] = df_tracks.index.get_level_values('release_date')\n",
    "df_tracks['dates'] = pd.to_datetime(df_tracks['dates'])\n",
    "years = df_tracks['dates'].dt.year"
   ]
  },
  {
   "cell_type": "code",
   "execution_count": null,
   "metadata": {
    "execution": {
     "iopub.execute_input": "2025-01-03T15:43:05.975262Z",
     "iopub.status.busy": "2025-01-03T15:43:05.974886Z",
     "iopub.status.idle": "2025-01-03T15:43:06.945672Z",
     "shell.execute_reply": "2025-01-03T15:43:06.944701Z",
     "shell.execute_reply.started": "2025-01-03T15:43:05.975233Z"
    },
    "trusted": true
   },
   "outputs": [],
   "source": [
    "sns.displot(\n",
    "    years, \n",
    "    discrete=True, \n",
    "    aspect=2, \n",
    "    height=5, \n",
    "    kind=\"hist\", \n",
    "    color=\"darkgreen\"\n",
    ").set(title=\"Number of Songs per Year\")\n",
    "plt.show()"
   ]
  },
  {
   "cell_type": "code",
   "execution_count": null,
   "metadata": {
    "execution": {
     "iopub.execute_input": "2025-01-03T15:45:05.221823Z",
     "iopub.status.busy": "2025-01-03T15:45:05.221405Z",
     "iopub.status.idle": "2025-01-03T15:45:15.589562Z",
     "shell.execute_reply": "2025-01-03T15:45:15.588410Z",
     "shell.execute_reply.started": "2025-01-03T15:45:05.221792Z"
    },
    "trusted": true
   },
   "outputs": [],
   "source": [
    "total_dr = df_tracks.duration\n",
    "fig_dims = (18, 7)\n",
    "fig, ax = plt.subplots(figsize=fig_dims)\n",
    "\n",
    "sns.barplot(x=years, y=total_dr, ax=ax, color=\"#2E8B57\", errwidth=False)\n",
    "plt.title(\"Year vs Duration\")\n",
    "plt.xticks(rotation=90)\n",
    "\n",
    "plt.show()\n"
   ]
  },
  {
   "cell_type": "code",
   "execution_count": null,
   "metadata": {
    "execution": {
     "iopub.execute_input": "2025-01-03T15:46:33.807011Z",
     "iopub.status.busy": "2025-01-03T15:46:33.806621Z",
     "iopub.status.idle": "2025-01-03T15:46:43.319189Z",
     "shell.execute_reply": "2025-01-03T15:46:43.318136Z",
     "shell.execute_reply.started": "2025-01-03T15:46:33.806980Z"
    },
    "trusted": true
   },
   "outputs": [],
   "source": [
    "total_dr=df_tracks['duration']\n",
    "\n",
    "sns.set_style(style=\"whitegrid\")\n",
    "fig_dims = (10, 5)\n",
    "fig, ax = plt.subplots(figsize=fig_dims)\n",
    "sns.lineplot(x=years, y=total_dr, ax=ax, color=\"#FF4500\")\n",
    "plt.title(\"Year vs Duration\")\n",
    "plt.xticks(rotation=60)\n",
    "plt.show()"
   ]
  },
  {
   "cell_type": "code",
   "execution_count": null,
   "metadata": {
    "execution": {
     "iopub.execute_input": "2025-01-03T15:34:34.298228Z",
     "iopub.status.busy": "2025-01-03T15:34:34.297931Z",
     "iopub.status.idle": "2025-01-03T15:34:35.117029Z",
     "shell.execute_reply": "2025-01-03T15:34:35.115902Z",
     "shell.execute_reply.started": "2025-01-03T15:34:34.298204Z"
    },
    "trusted": true
   },
   "outputs": [],
   "source": [
    "df_genre = pd.read_csv(r'/kaggle/input/ultimate-spotify-tracks-db/SpotifyFeatures.csv')"
   ]
  },
  {
   "cell_type": "code",
   "execution_count": null,
   "metadata": {
    "execution": {
     "iopub.execute_input": "2025-01-03T15:34:35.118695Z",
     "iopub.status.busy": "2025-01-03T15:34:35.118394Z",
     "iopub.status.idle": "2025-01-03T15:34:35.139899Z",
     "shell.execute_reply": "2025-01-03T15:34:35.138830Z",
     "shell.execute_reply.started": "2025-01-03T15:34:35.118668Z"
    },
    "trusted": true
   },
   "outputs": [],
   "source": [
    "df_genre.head()"
   ]
  },
  {
   "cell_type": "code",
   "execution_count": null,
   "metadata": {
    "execution": {
     "iopub.execute_input": "2025-01-03T15:47:52.772235Z",
     "iopub.status.busy": "2025-01-03T15:47:52.771774Z",
     "iopub.status.idle": "2025-01-03T15:47:56.472714Z",
     "shell.execute_reply": "2025-01-03T15:47:56.471638Z",
     "shell.execute_reply.started": "2025-01-03T15:47:52.772197Z"
    },
    "trusted": true
   },
   "outputs": [],
   "source": [
    "plt.title(\"Duration of the Songs in Different Genres\")\n",
    "sns.barplot(\n",
    "    y='genre', \n",
    "    x='duration_ms', \n",
    "    data=df_genre, \n",
    "    palette=\"mako\"  # Apply a dark colormap\n",
    ")\n",
    "plt.xlabel(\"Duration in milliseconds\")\n",
    "plt.ylabel(\"Genres\")\n",
    "plt.show()\n"
   ]
  },
  {
   "cell_type": "code",
   "execution_count": null,
   "metadata": {
    "execution": {
     "iopub.execute_input": "2025-01-03T15:49:14.903713Z",
     "iopub.status.busy": "2025-01-03T15:49:14.903307Z",
     "iopub.status.idle": "2025-01-03T15:49:18.597867Z",
     "shell.execute_reply": "2025-01-03T15:49:18.596806Z",
     "shell.execute_reply.started": "2025-01-03T15:49:14.903681Z"
    },
    "trusted": true
   },
   "outputs": [],
   "source": [
    "plt.title(\"Duration of the Songs in Different Genres\")\n",
    "sns.barplot(\n",
    "    y='genre', \n",
    "    x='duration_ms', \n",
    "    data=df_genre, \n",
    "    palette=\"viridis\"  # Use a gradient-like colormap\n",
    ")\n",
    "plt.xlabel(\"Duration in milliseconds\")\n",
    "plt.ylabel(\"Genres\")\n",
    "plt.show()\n"
   ]
  },
  {
   "cell_type": "code",
   "execution_count": null,
   "metadata": {
    "execution": {
     "iopub.execute_input": "2025-01-03T15:53:24.557396Z",
     "iopub.status.busy": "2025-01-03T15:53:24.556979Z",
     "iopub.status.idle": "2025-01-03T15:53:24.967488Z",
     "shell.execute_reply": "2025-01-03T15:53:24.966461Z",
     "shell.execute_reply.started": "2025-01-03T15:53:24.557362Z"
    },
    "trusted": true
   },
   "outputs": [],
   "source": [
    "sns.set_style(style=\"whitegrid\")\n",
    "plt.figure(figsize=(10, 5))\n",
    "famous = df_genre.sort_values(\"popularity\", ascending=False).head(10)\n",
    "sns.barplot(y='genre', x='popularity', data=famous, palette=\"viridis\").set(title=\"Top 10 Genres by Popularity\")\n",
    "plt.show()\n"
   ]
  },
  {
   "cell_type": "code",
   "execution_count": null,
   "metadata": {
    "trusted": true
   },
   "outputs": [],
   "source": []
  }
 ],
 "metadata": {
  "kaggle": {
   "accelerator": "none",
   "dataSources": [
    {
     "datasetId": 135088,
     "sourceId": 566393,
     "sourceType": "datasetVersion"
    },
    {
     "datasetId": 1641094,
     "sourceId": 2695101,
     "sourceType": "datasetVersion"
    }
   ],
   "dockerImageVersionId": 30497,
   "isGpuEnabled": false,
   "isInternetEnabled": false,
   "language": "python",
   "sourceType": "notebook"
  },
  "kernelspec": {
   "display_name": "Python 3",
   "language": "python",
   "name": "python3"
  },
  "language_info": {
   "codemirror_mode": {
    "name": "ipython",
    "version": 3
   },
   "file_extension": ".py",
   "mimetype": "text/x-python",
   "name": "python",
   "nbconvert_exporter": "python",
   "pygments_lexer": "ipython3",
   "version": "3.10.10"
  }
 },
 "nbformat": 4,
 "nbformat_minor": 4
}
